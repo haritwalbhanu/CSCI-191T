{
  "cells": [
    {
      "cell_type": "code",
      "execution_count": 63,
      "metadata": {
        "id": "8obF1J9A1X9s"
      },
      "outputs": [],
      "source": [
        "# Imports\n",
        "import numpy as np\n",
        "import random as random\n",
        "import csv"
      ]
    },
    {
      "cell_type": "code",
      "execution_count": null,
      "metadata": {},
      "outputs": [],
      "source": [
        "# Initializations and opening csv files\n",
        "sigmoid = lambda y: 1/(1+np.exp(-y))\n",
        "sigmoid_derivative = lambda x: x * (1-x)\n",
        "train_data = []\n",
        "test_data = []\n",
        "epochs = 5\n",
        "\n",
        "# Training data from csv\n",
        "train_data_file = open('./train.csv')\n",
        "train_data_rows = csv.reader(train_data_file)\n",
        "next(train_data_rows, None)\n",
        "\n",
        "\n",
        "test_data_file = open('./test.csv')\n",
        "test_data_rows = csv.reader(test_data_file)\n",
        "next(test_data_rows, None)"
      ]
    },
    {
      "cell_type": "code",
      "execution_count": 82,
      "metadata": {
        "id": "W7U1enf65oIe"
      },
      "outputs": [],
      "source": [
        "# Formatting train and test data\n",
        "for row in train_data_rows:\n",
        "    head = int(row[0])\n",
        "    inputVals = list(map(lambda x: int(x)/255, row))\n",
        "    inputVals = list(map(lambda x: [x], inputVals))\n",
        "    outputVals = list(map(lambda x: [x], [0] * 10))\n",
        "    outputVals[head] = [1]\n",
        "    inputVals.pop(0)\n",
        "    train_data.append((inputVals, outputVals))\n",
        "\n",
        "for row in test_data_rows:\n",
        "    inputVals = list(map(lambda x: int(x)/255, row))\n",
        "    inputVals = list(map(lambda x: [x], inputVals))\n",
        "    test_data.append(inputVals)\n"
      ]
    },
    {
      "cell_type": "code",
      "execution_count": 85,
      "metadata": {
        "id": "CTmoXPRA1oMJ"
      },
      "outputs": [],
      "source": [
        "class NeuralNetwork:\n",
        "  def __init__(self, numInput, numHidden, numOutput, learningRate):\n",
        "    self.numInput = numInput\n",
        "    self.numHidden = numHidden\n",
        "    self.numOutput = numOutput\n",
        "    self.learningRate = learningRate\n",
        "\n",
        "    self.hidden_weights = np.random.uniform(-0.01, 0.01, (numHidden, numInput))\n",
        "    self.output_weights = np.random.uniform(-0.01, 0.01, (numOutput, numHidden))\n",
        "    self.hidden_bias = np.random.uniform(-0.01, 0.01, (numHidden, 1))\n",
        "    self.output_bias = np.random.uniform(-0.01, 0.01, (numOutput, 1))\n",
        "\n",
        "  def test(self, inputs): \n",
        "    # Generating the hidden layer outputs\n",
        "    hidden_layer = np.dot(self.hidden_weights, inputs)\n",
        "    hidden_layer += self.hidden_bias\n",
        "    hidden_layer = sigmoid(hidden_layer)\n",
        "\n",
        "    # Generating the outputs\n",
        "    outputs = np.dot(self.output_weights, hidden_layer)\n",
        "    outputs += self.output_bias\n",
        "    outputs = sigmoid(outputs)\n",
        "\n",
        "    return outputs\n",
        "\n",
        "  def train(self, inputs, targets):\n",
        "    # Generating the hidden layer outputs\n",
        "    hidden_layer = np.dot(self.hidden_weights, inputs)\n",
        "    hidden_layer += self.hidden_bias\n",
        "    hidden_layer = sigmoid(hidden_layer)\n",
        "\n",
        "    # Generating the outputs\n",
        "    outputs = np.dot(self.output_weights, hidden_layer)\n",
        "    outputs += self.output_bias\n",
        "    outputs = sigmoid(outputs)\n",
        "\n",
        "    # Calculating output errors\n",
        "    output_errors = targets - outputs\n",
        "\n",
        "    # Calculating gradient for output weights\n",
        "    output_gradients = sigmoid_derivative(outputs)\n",
        "    output_gradients = output_gradients * output_errors\n",
        "    output_gradients = self.learningRate * output_gradients\n",
        "\n",
        "    # Calculating delta output weights\n",
        "    delta_output_weights = np.dot(output_gradients, hidden_layer.T)\n",
        "    self.output_weights += delta_output_weights\n",
        "    self.output_bias += output_gradients\n",
        "  \n",
        "    # Calculating hidden layer errors\n",
        "    hidden_errors = np.dot(self.output_weights.T, output_errors)\n",
        "\n",
        "    # Calculating gradient for hidden weights\n",
        "    hidden_gradients = sigmoid_derivative(hidden_layer)\n",
        "    hidden_gradients = hidden_gradients * hidden_errors\n",
        "    hidden_gradients = self.learningRate * hidden_gradients\n",
        "\n",
        "    # Calculating delta output weights\n",
        "    delta_hidden_weights = np.dot(hidden_gradients, inputs.T)\n",
        "    self.hidden_weights += delta_hidden_weights\n",
        "    self.hidden_bias += hidden_gradients"
      ]
    },
    {
      "cell_type": "code",
      "execution_count": 86,
      "metadata": {
        "colab": {
          "base_uri": "https://localhost:8080/"
        },
        "id": "PCYkG8qg4lv_",
        "outputId": "37994a9e-2808-4a98-b889-5aa47b5fdff7"
      },
      "outputs": [],
      "source": [
        "model = NeuralNetwork(784,784,10,0.1)\n",
        "for i in range(epochs):\n",
        "  for d in train_data:\n",
        "    inputs, targets = d\n",
        "    model.train(np.array(inputs), np.array(targets))\n",
        "\n"
      ]
    },
    {
      "cell_type": "code",
      "execution_count": 87,
      "metadata": {
        "id": "L4YPlbHmJYe_"
      },
      "outputs": [],
      "source": [
        "with open('./test_results.csv', 'w') as test_results_file:\n",
        "    test_results_file.truncate()\n",
        "    writer = csv.writer(test_results_file)\n",
        "    writer.writerow(['ImageId', 'Label'])\n",
        "\n",
        "    idx = 1\n",
        "    for inputs in test_data:\n",
        "        res = model.test(inputs).tolist()\n",
        "        res = [item for sublist in res for item in sublist]\n",
        "        row = [str(idx), str(res.index(max(res)))]\n",
        "        writer.writerow(row)\n",
        "        idx+=1"
      ]
    }
  ],
  "metadata": {
    "colab": {
      "collapsed_sections": [],
      "name": "NeuralNetwork.ipynb",
      "provenance": []
    },
    "kernelspec": {
      "display_name": "Python 3",
      "name": "python3"
    },
    "language_info": {
      "codemirror_mode": {
        "name": "ipython",
        "version": 3
      },
      "file_extension": ".py",
      "mimetype": "text/x-python",
      "name": "python",
      "nbconvert_exporter": "python",
      "pygments_lexer": "ipython3",
      "version": "3.9.2"
    }
  },
  "nbformat": 4,
  "nbformat_minor": 0
}
