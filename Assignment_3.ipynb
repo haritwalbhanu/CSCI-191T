{
  "nbformat": 4,
  "nbformat_minor": 0,
  "metadata": {
    "colab": {
      "name": "Assignment-3.ipynb",
      "provenance": [],
      "authorship_tag": "ABX9TyPQZDvqtSLKbTLbZ/41+pwH",
      "include_colab_link": true
    },
    "kernelspec": {
      "name": "python3",
      "display_name": "Python 3"
    },
    "language_info": {
      "name": "python"
    }
  },
  "cells": [
    {
      "cell_type": "markdown",
      "metadata": {
        "id": "view-in-github",
        "colab_type": "text"
      },
      "source": [
        "<a href=\"https://colab.research.google.com/github/haritwalbhanu/CSCI-191T/blob/main/Assignment_3.ipynb\" target=\"_parent\"><img src=\"https://colab.research.google.com/assets/colab-badge.svg\" alt=\"Open In Colab\"/></a>"
      ]
    },
    {
      "cell_type": "markdown",
      "metadata": {
        "id": "9qVZyaIT3mPT"
      },
      "source": [
        "# Bhanupriya Haritwal\n",
        "# CSCI-191T"
      ]
    },
    {
      "cell_type": "code",
      "metadata": {
        "id": "Qr6zFzU53yAj"
      },
      "source": [
        "### Includes\n",
        "%matplotlib inline\n",
        "import matplotlib.pyplot as plt\n",
        "import numpy as np\n",
        "import pandas as pd"
      ],
      "execution_count": 1,
      "outputs": []
    },
    {
      "cell_type": "code",
      "metadata": {
        "id": "f-U_MzPs3_Lz"
      },
      "source": [
        "df = pd.read_csv('https://raw.githubusercontent.com/haritwalbhanu/CSCI-191T/main/Assignment-3/iris.data.csv', header=None)\n",
        "\n",
        "# replacing Iris-setosa => 0   ::  Iris-versicolor => 0.5  ::    Iris-virginica => 1\n",
        "df = df.replace('Iris-setosa', 0)\n",
        "df = df.replace('Iris-versicolor', 0.5)\n",
        "df = df.replace('Iris-virginica', 1)\n",
        "\n",
        "sigmoid = lambda y: 1/(1+np.exp(-y))\n",
        "square_loss = lambda p,t : np.mean(pow(p-t, 2))\n",
        "classify = lambda x: 'Iris-setosa' if x < 0.33 else 'Iris-versicolor' if x < 0.66 else 'Iris-virginica'\n",
        "classifyInt = lambda x: 0 if x < 0.33 else 0.5 if x < 0.66 else 1 # this is used to classify in the integer values like we mentioned above\n",
        "\n",
        "iterations = 100000\n",
        "alpha = 0.001\n",
        "test_size = 10 # must be between 1 to 149"
      ],
      "execution_count": 2,
      "outputs": []
    },
    {
      "cell_type": "code",
      "metadata": {
        "id": "ktU9NqaN4Dx1"
      },
      "source": [
        "# Creating test data and training data from data set\n",
        "test_data = df.sample(test_size)\n",
        "train_data = df[~df.isin(test_data)]\n",
        "train_data = train_data.dropna()\n",
        "\n",
        "x_train = train_data[[0,1,2,3]].to_numpy().T\n",
        "y_train = train_data[4].to_numpy().reshape(1, x_train.shape[1])\n",
        "\n",
        "x_test = test_data[[0,1,2,3]].to_numpy().T\n",
        "y_test = test_data[4].to_numpy().reshape(1, x_test.shape[1])"
      ],
      "execution_count": 3,
      "outputs": []
    },
    {
      "cell_type": "markdown",
      "metadata": {
        "id": "I6zdkKJk4HgF"
      },
      "source": [
        "# Using Squared error derived gradient"
      ]
    },
    {
      "cell_type": "code",
      "metadata": {
        "id": "kTRahNeY4NcD"
      },
      "source": [
        "# Training model\n",
        "n = x_train.shape[0]\n",
        "m = x_train.shape[1]\n",
        "weights = np.zeros((n,1))\n",
        "b = 0\n",
        "    \n",
        "for i in range(iterations):\n",
        "    z = np.dot(weights.T, x_train) + b\n",
        "    y_pred = sigmoid(z)\n",
        "    cost = -(1/m)*np.sum(np.square(y_pred - y_train))\n",
        "    deltaWeights = (1/m)*np.dot(y_pred-y_train, x_train.T)\n",
        "    deltaB = (1/m)*np.sum(y_pred-y_train)\n",
        "    weights = weights - alpha*deltaWeights.T\n",
        "    b = b - alpha*deltaB"
      ],
      "execution_count": 4,
      "outputs": []
    },
    {
      "cell_type": "code",
      "metadata": {
        "colab": {
          "base_uri": "https://localhost:8080/"
        },
        "id": "AL0SnF_94RPs",
        "outputId": "24d0e59b-1a06-4b0b-9433-a0885e6e89b3"
      },
      "source": [
        "# Testing model\n",
        "z = np.dot(weights.T, x_test) + b\n",
        "resultVals = sigmoid(z).tolist()[0]\n",
        "classifiedResultVals = list(map(classifyInt, resultVals))\n",
        "testValues = y_test.tolist()[0]\n",
        "\n",
        "accuracy = sum(list(map(lambda x,y: 1 if x == y else 0, classifiedResultVals, testValues))) * 100 / test_size\n",
        "print(\"Accuracy of the model is : \", round(accuracy, 2), \"%\")"
      ],
      "execution_count": 7,
      "outputs": [
        {
          "output_type": "stream",
          "name": "stdout",
          "text": [
            "Accuracy of the model is :  90.0 %\n"
          ]
        }
      ]
    },
    {
      "cell_type": "markdown",
      "metadata": {
        "id": "kWfuuEkU4WZc"
      },
      "source": [
        "# Using cross entropy derived gradient"
      ]
    },
    {
      "cell_type": "code",
      "metadata": {
        "id": "hLSOmO714bij"
      },
      "source": [
        "# Training model\n",
        "n = x_train.shape[0]\n",
        "m = x_train.shape[1]\n",
        "weights = np.zeros((n,1))\n",
        "b = 0\n",
        "alpha = 0.001\n",
        "    \n",
        "for i in range(iterations):\n",
        "    z = np.dot(weights.T, x_train) + b\n",
        "    y_pred = sigmoid(z)\n",
        "    cost = -(1/m)*np.sum( y_train*np.log(y_pred) + (1-y_train)*np.log(1-y_pred))\n",
        "    deltaWeights = (1/m)*np.dot(y_pred-y_train, x_train.T)\n",
        "    deltaB = (1/m)*np.sum(y_pred-y_train)\n",
        "    weights = weights - alpha*deltaWeights.T\n",
        "    b = b - alpha*deltaB"
      ],
      "execution_count": 8,
      "outputs": []
    },
    {
      "cell_type": "code",
      "metadata": {
        "colab": {
          "base_uri": "https://localhost:8080/"
        },
        "id": "aOuP73OJ4eY0",
        "outputId": "d802a9e5-e20e-47f1-bde5-9499cb61223a"
      },
      "source": [
        "# Testing model\n",
        "z = np.dot(weights.T, x_test) + b\n",
        "resultVals = sigmoid(z).tolist()[0]\n",
        "classifiedResultVals = list(map(classifyInt, resultVals))\n",
        "testValues = y_test.tolist()[0]\n",
        "\n",
        "accuracy = sum(list(map(lambda x,y: 1 if x == y else 0, classifiedResultVals, testValues))) * 100 / test_size\n",
        "print(\"Accuracy of the model is : \", round(accuracy, 2), \"%\")\n"
      ],
      "execution_count": 9,
      "outputs": [
        {
          "output_type": "stream",
          "name": "stdout",
          "text": [
            "Accuracy of the model is :  90.0 %\n"
          ]
        }
      ]
    }
  ]
}