{
  "nbformat": 4,
  "nbformat_minor": 0,
  "metadata": {
    "colab": {
      "name": "BackPropagation.ipynb",
      "provenance": [],
      "authorship_tag": "ABX9TyPmUi5iOnrvoDR2TdGo2Syf",
      "include_colab_link": true
    },
    "kernelspec": {
      "name": "python3",
      "display_name": "Python 3"
    },
    "language_info": {
      "name": "python"
    }
  },
  "cells": [
    {
      "cell_type": "markdown",
      "metadata": {
        "id": "view-in-github",
        "colab_type": "text"
      },
      "source": [
        "<a href=\"https://colab.research.google.com/github/haritwalbhanu/CSCI-191T/blob/main/BackPropagation.ipynb\" target=\"_parent\"><img src=\"https://colab.research.google.com/assets/colab-badge.svg\" alt=\"Open In Colab\"/></a>"
      ]
    },
    {
      "cell_type": "markdown",
      "metadata": {
        "id": "iEG_py7hcwft"
      },
      "source": [
        "### Bhanupriya Haritwal\n",
        "#### CSCI 191T"
      ]
    },
    {
      "cell_type": "code",
      "metadata": {
        "id": "x5krv6cZbfx0"
      },
      "source": [
        "### Includes\n",
        "import numpy as np"
      ],
      "execution_count": 1,
      "outputs": []
    },
    {
      "cell_type": "code",
      "metadata": {
        "id": "CbHR97dGb8bM"
      },
      "source": [
        "# Initialization and utility functions\n",
        "iterations = 10 # Number of Iterations\n",
        "alpha = 0.6 # Learning rate\n",
        "train_data = [((0,0), 0), ((0,1), 1), ((1,0), 1), ((1,1), 0)]\n",
        "X = None\n",
        "_Y = None\n",
        "Z = None\n",
        "W = None\n",
        "V = None\n",
        "accuracy = 0\n",
        "\n",
        "def init():\n",
        "  global W, V, X, _Y, Z\n",
        "  W = np.random.uniform(-0.01, 0.01, (3, 2))\n",
        "  V = np.random.uniform(-0.01, 0.01, (3, 1))\n",
        "  X = np.array([[1,0,0], [1,0,1], [1,1,0], [1, 1,1]])\n",
        "  _Y = np.array([[0], [1], [1], [0]])\n",
        "  Z = np.array([[1, None,None], [1, None,None], [1, None,None], [1, None,None]])\n",
        "\n",
        "  print('------- Initialization -------\\n')\n",
        "  print('W: ', W)\n",
        "  print('V: ', V)\n",
        "  print('Learning rate: ', alpha)\n",
        "  print ('\\n')\n",
        "\n",
        "dotProd = lambda W, X: sum([w*x for w,x in zip(W,X)])\n",
        "sigmoid = lambda y: 1/(1+np.exp(-y))\n",
        "sigmoid_derivative = lambda x: x * (1-x)"
      ],
      "execution_count": 2,
      "outputs": []
    },
    {
      "cell_type": "code",
      "metadata": {
        "id": "2WgeBJnRcBAi"
      },
      "source": [
        "def feedForwardAndBackPropagation():\n",
        "  global W, V, X, Y, Z, alpha, accuracy\n",
        "\n",
        "  # Feed forward\n",
        "  Zin = np.dot(X, W)\n",
        "  Zin = np.insert(Zin, 0, [Z[0][0], Z[1][0], Z[2][0], Z[3][0]], axis=1)\n",
        "  Z = sigmoid(Zin)\n",
        "  Yin = np.dot(Z, V);\n",
        "  Y = sigmoid(Yin);\n",
        "  print('Output: ', Y)\n",
        "  accuracy = np.sum(np.abs(_Y-Y)) * 25\n",
        "  print('\\n Accuracy: ', accuracy, '%')\n",
        "  sq_error = 0.5 * np.sum(np.square(_Y - Y))\n",
        "  print('Squared Error: ', sq_error)\n",
        "\n",
        "  # Back Propagation\n",
        "  \n",
        "  error = _Y - Y\n",
        "  dY = error * sigmoid_derivative(Y)\n",
        "\n",
        "  eZ =  dY.dot(V.T)\n",
        "  dZ = eZ * sigmoid_derivative(Z)\n",
        "\n",
        "  V += (Z.T.dot(dY) * alpha)\n",
        "  print('V: ', V)\n",
        "  W += ((X.T.dot(dZ[:, 1:])) * alpha)\n",
        "  print('W: ', W)"
      ],
      "execution_count": 3,
      "outputs": []
    },
    {
      "cell_type": "markdown",
      "metadata": {
        "id": "EQVx1IercFMr"
      },
      "source": [
        "# Test #1"
      ]
    },
    {
      "cell_type": "code",
      "metadata": {
        "id": "bX-qRJeTcKmc"
      },
      "source": [
        "init()\n",
        "for i in range(iterations):\n",
        "  print('------- After Iteration ', i+1, ' --------\\n')\n",
        "  feedForwardAndBackPropagation()"
      ],
      "execution_count": null,
      "outputs": []
    },
    {
      "cell_type": "markdown",
      "metadata": {
        "id": "mzpgOZk6cN2i"
      },
      "source": [
        "# Test #2"
      ]
    },
    {
      "cell_type": "code",
      "metadata": {
        "id": "X_kWKMgycRAR"
      },
      "source": [
        "init()\n",
        "for i in range(iterations):\n",
        "  print('------- After Iteration ', i+1, ' --------\\n')\n",
        "  feedForwardAndBackPropagation()"
      ],
      "execution_count": null,
      "outputs": []
    },
    {
      "cell_type": "markdown",
      "metadata": {
        "id": "far5HJurcVdL"
      },
      "source": [
        "#Test #3"
      ]
    },
    {
      "cell_type": "code",
      "metadata": {
        "id": "wtuMu7fVcWjp"
      },
      "source": [
        "init()\n",
        "for i in range(iterations):\n",
        "  print('------- After Iteration ', i+1, ' --------\\n')\n",
        "  feedForwardAndBackPropagation()"
      ],
      "execution_count": null,
      "outputs": []
    },
    {
      "cell_type": "markdown",
      "metadata": {
        "id": "Yke55bUDcZGy"
      },
      "source": [
        "#Test #4"
      ]
    },
    {
      "cell_type": "code",
      "metadata": {
        "id": "x-7zEAZMccBi"
      },
      "source": [
        "init()\n",
        "for i in range(iterations):\n",
        "  print('------- After Iteration ', i+1, ' --------\\n')\n",
        "  feedForwardAndBackPropagation()"
      ],
      "execution_count": null,
      "outputs": []
    },
    {
      "cell_type": "markdown",
      "metadata": {
        "id": "w97gXc_CcfU0"
      },
      "source": [
        "#Test #5"
      ]
    },
    {
      "cell_type": "code",
      "metadata": {
        "id": "-X-FMpHMch3Q"
      },
      "source": [
        "init()\n",
        "for i in range(iterations):\n",
        "  print('------- After Iteration ', i+1, ' --------\\n')\n",
        "  feedForwardAndBackPropagation()"
      ],
      "execution_count": null,
      "outputs": []
    }
  ]
}